{
  "cells": [
    {
      "cell_type": "code",
      "execution_count": null,
      "metadata": {
        "id": "0m2JWFliFfKT",
        "colab": {
          "base_uri": "https://localhost:8080/"
        },
        "outputId": "7563ad6c-56ad-4dc9-d53a-8889af5e7aff"
      },
      "outputs": [
        {
          "output_type": "stream",
          "name": "stderr",
          "text": [
            "/usr/local/lib/python3.10/dist-packages/albumentations/__init__.py:24: UserWarning: A new version of Albumentations is available: 1.4.23 (you have 1.4.20). Upgrade using: pip install -U albumentations. To disable automatic update checks, set the environment variable NO_ALBUMENTATIONS_UPDATE to 1.\n",
            "  check_for_updates()\n"
          ]
        }
      ],
      "source": [
        "from __future__ import print_function\n",
        "import torch\n",
        "import torch.nn as nn\n",
        "import torch.nn.functional as F\n",
        "import torch.optim as optim\n",
        "from torchvision import datasets, transforms\n",
        "import torch.optim.lr_scheduler as lr_scheduler\n",
        "\n",
        "import albumentations as A\n",
        "from albumentations.pytorch import ToTensorV2\n",
        "import torchvision\n",
        "import torchvision.transforms as transforms\n",
        "import numpy as np\n",
        "from torch.utils.data import DataLoader, Dataset"
      ]
    },
    {
      "cell_type": "code",
      "source": [
        "def calculate_mean_std(dataset):\n",
        "    data = np.concatenate([np.asarray(dataset[i][0]) for i in range(len(dataset))], axis=0)\n",
        "    mean = data.mean(axis=(0, 1, 2)) / 255.0\n",
        "    std = data.std(axis=(0, 1, 2)) / 255.0\n",
        "    return mean, std"
      ],
      "metadata": {
        "id": "ys58Z-OXGBX7"
      },
      "execution_count": null,
      "outputs": []
    },
    {
      "cell_type": "code",
      "execution_count": null,
      "metadata": {
        "id": "DqTWLaM5GHgH",
        "colab": {
          "base_uri": "https://localhost:8080/"
        },
        "outputId": "adc1afae-7633-44e8-fbd8-4307005a41e4"
      },
      "outputs": [
        {
          "output_type": "stream",
          "name": "stdout",
          "text": [
            "Downloading https://www.cs.toronto.edu/~kriz/cifar-10-python.tar.gz to ./data/cifar-10-python.tar.gz\n"
          ]
        },
        {
          "output_type": "stream",
          "name": "stderr",
          "text": [
            "100%|██████████| 170M/170M [00:03<00:00, 47.8MB/s]\n"
          ]
        },
        {
          "output_type": "stream",
          "name": "stdout",
          "text": [
            "Extracting ./data/cifar-10-python.tar.gz to ./data\n",
            "Files already downloaded and verified\n"
          ]
        }
      ],
      "source": [
        "class CIFAR10Albumentations(Dataset):\n",
        "    def __init__(self, dataset, transform):\n",
        "        self.dataset = dataset\n",
        "        self.transform = transform\n",
        "\n",
        "    def __len__(self):\n",
        "        return len(self.dataset)\n",
        "    @staticmethod\n",
        "    def transform_to_float(tensor):\n",
        "      # Ensure the tensor is float32\n",
        "      return tensor.float()\n",
        "\n",
        "    def __getitem__(self, idx):\n",
        "        image, label = self.dataset[idx]\n",
        "        image = np.array(image)  # Convert PIL image to numpy array\n",
        "        augmented = self.transform(image=image)\n",
        "        image = augmented['image']\n",
        "        image_tensor = self.transform_to_float(image)\n",
        "        return image_tensor, label\n",
        "\n",
        "# Step 4: Apply Augmentation and DataLoader\n",
        "train_dataset = torchvision.datasets.CIFAR10(root='./data', train=True, download=True)\n",
        "mean, std = calculate_mean_std(train_dataset)\n",
        "test_dataset = torchvision.datasets.CIFAR10(root='./data', train=False, download=True)\n",
        "\n",
        "\n",
        "transform_train = A.Compose([\n",
        "    A.Resize(64, 64),\n",
        "    A.HorizontalFlip(p=0.5),\n",
        "    A.ShiftScaleRotate(shift_limit=0.1, scale_limit=0.2, rotate_limit=15, p=0.5),\n",
        "    A.CoarseDropout(\n",
        "        max_holes=1, max_height=16, max_width=16,\n",
        "        min_holes=1, min_height=16, min_width=16,\n",
        "        fill_value=mean, mask_fill_value=None\n",
        "    ),\n",
        "    A.ColorJitter(brightness=0.10, contrast=0.1, saturation=0.10, hue=0.1),\n",
        "    A.Normalize(mean=mean, std=std),  # Normalization\n",
        "    A.pytorch.ToTensorV2(),  # Convert to PyTorch tensor\n",
        "])\n",
        "\n",
        "transform_test = A.Compose([\n",
        "    A.Resize(64, 64),\n",
        "    A.Normalize(mean=mean, std=std),  # Normalization\n",
        "    A.pytorch.ToTensorV2(),  # Convert to PyTorch tensor\n",
        "])\n",
        "\n",
        "\n",
        "\n",
        "train_dataset_alb = CIFAR10Albumentations(train_dataset, transform_train)\n",
        "test_dataset_alb = CIFAR10Albumentations(test_dataset, transform_test)\n",
        "\n",
        "train_loader = DataLoader(train_dataset_alb, batch_size=128, shuffle=True, num_workers=2)\n",
        "test_loader = DataLoader(test_dataset_alb, batch_size=128, shuffle=True, num_workers=2)"
      ]
    },
    {
      "cell_type": "code",
      "source": [
        "mean, std"
      ],
      "metadata": {
        "colab": {
          "base_uri": "https://localhost:8080/"
        },
        "id": "Kyf1B2PTDR00",
        "outputId": "f09388eb-65fa-4fb6-ac8a-e148c2b42090"
      },
      "execution_count": null,
      "outputs": [
        {
          "output_type": "execute_result",
          "data": {
            "text/plain": [
              "(0.4733630004850899, 0.251568925063221)"
            ]
          },
          "metadata": {},
          "execution_count": 4
        }
      ]
    },
    {
      "cell_type": "code",
      "source": [
        "image_iter = iter(train_loader)"
      ],
      "metadata": {
        "id": "WW8VAtGb7PdB"
      },
      "execution_count": null,
      "outputs": []
    },
    {
      "cell_type": "code",
      "source": [
        "batch_data, batch_label = next(image_iter)\n",
        "batch_data.shape, batch_label.shape"
      ],
      "metadata": {
        "id": "khEubtJN7V5x",
        "colab": {
          "base_uri": "https://localhost:8080/"
        },
        "outputId": "d77d1870-7f02-4a8c-848c-bd4b8f6d8cf2"
      },
      "execution_count": null,
      "outputs": [
        {
          "output_type": "execute_result",
          "data": {
            "text/plain": [
              "(torch.Size([128, 3, 64, 64]), torch.Size([128]))"
            ]
          },
          "metadata": {},
          "execution_count": 6
        }
      ]
    },
    {
      "cell_type": "code",
      "source": [
        "import matplotlib.pyplot as plt\n",
        "\n",
        "fig = plt.figure()\n",
        "for ele in range(12):\n",
        "  batch_data, batch_label = next(image_iter)\n",
        "  plt.subplot(3,4,ele+1)\n",
        "  plt.tight_layout()\n",
        "  plt.imshow(batch_data[ele].squeeze(0).permute(1, 2, 0))\n",
        "  plt.title(batch_label[ele].item())\n",
        "  plt.xticks([])\n",
        "  plt.yticks([])\n",
        "plt.show()"
      ],
      "metadata": {
        "colab": {
          "base_uri": "https://localhost:8080/",
          "height": 671
        },
        "id": "4gigtRC7Csb2",
        "outputId": "b99eae17-7a10-4246-9b58-00059b687ff6"
      },
      "execution_count": null,
      "outputs": [
        {
          "output_type": "stream",
          "name": "stderr",
          "text": [
            "WARNING:matplotlib.image:Clipping input data to the valid range for imshow with RGB data ([0..1] for floats or [0..255] for integers).\n",
            "WARNING:matplotlib.image:Clipping input data to the valid range for imshow with RGB data ([0..1] for floats or [0..255] for integers).\n",
            "WARNING:matplotlib.image:Clipping input data to the valid range for imshow with RGB data ([0..1] for floats or [0..255] for integers).\n",
            "WARNING:matplotlib.image:Clipping input data to the valid range for imshow with RGB data ([0..1] for floats or [0..255] for integers).\n",
            "WARNING:matplotlib.image:Clipping input data to the valid range for imshow with RGB data ([0..1] for floats or [0..255] for integers).\n",
            "WARNING:matplotlib.image:Clipping input data to the valid range for imshow with RGB data ([0..1] for floats or [0..255] for integers).\n",
            "WARNING:matplotlib.image:Clipping input data to the valid range for imshow with RGB data ([0..1] for floats or [0..255] for integers).\n",
            "WARNING:matplotlib.image:Clipping input data to the valid range for imshow with RGB data ([0..1] for floats or [0..255] for integers).\n",
            "WARNING:matplotlib.image:Clipping input data to the valid range for imshow with RGB data ([0..1] for floats or [0..255] for integers).\n",
            "WARNING:matplotlib.image:Clipping input data to the valid range for imshow with RGB data ([0..1] for floats or [0..255] for integers).\n",
            "WARNING:matplotlib.image:Clipping input data to the valid range for imshow with RGB data ([0..1] for floats or [0..255] for integers).\n",
            "WARNING:matplotlib.image:Clipping input data to the valid range for imshow with RGB data ([0..1] for floats or [0..255] for integers).\n"
          ]
        },
        {
          "output_type": "display_data",
          "data": {
            "text/plain": [
              "<Figure size 640x480 with 12 Axes>"
            ],
            "image/png": "[encoded data removed]"
          },
          "metadata": {}
        }
      ]
    },
    {
      "cell_type": "code",
      "source": [
        "type(batch_data)"
      ],
      "metadata": {
        "colab": {
          "base_uri": "https://localhost:8080/"
        },
        "id": "_DrSMNqPTlDk",
        "outputId": "015c73ff-29c1-4db8-8583-49c34bec3aac"
      },
      "execution_count": null,
      "outputs": [
        {
          "output_type": "execute_result",
          "data": {
            "text/plain": [
              "torch.Tensor"
            ]
          },
          "metadata": {},
          "execution_count": 8
        }
      ]
    },
    {
      "cell_type": "code",
      "execution_count": null,
      "metadata": {
        "id": "h_Cx9q2QFgM7"
      },
      "outputs": [],
      "source": [
        "# Depthwise Separable Convolution Block\n",
        "class DepthwiseSeparableConv(nn.Module):\n",
        "    def __init__(self, in_channels, out_channels, kernel_size=3, padding=1, bias=False, dilation = 1):\n",
        "        super(DepthwiseSeparableConv, self).__init__()\n",
        "        self.depthwise = nn.Conv2d(in_channels, in_channels, kernel_size=kernel_size,\n",
        "                                   padding=padding, groups=in_channels, bias=bias, dilation = dilation)\n",
        "        self.pointwise = nn.Conv2d(in_channels, out_channels, kernel_size=1, bias=bias)\n",
        "\n",
        "    def forward(self, x):\n",
        "        x = self.depthwise(x)\n",
        "        x = self.pointwise(x)\n",
        "        return x\n",
        "\n",
        "# Network Architecture\n",
        "class Net(nn.Module):\n",
        "    def __init__(self):\n",
        "        super(Net, self).__init__()\n",
        "\n",
        "        # Input Block: Standard Convolution\n",
        "        self.conv1 = nn.Sequential(\n",
        "            nn.Conv2d(3, 16, kernel_size=3, padding=1, bias=False),  # Input: 1 channel -> 8 channels\n",
        "            nn.ReLU(),\n",
        "            nn.BatchNorm2d(16),\n",
        "            nn.Dropout(0.1),\n",
        "            nn.Conv2d(16, 32, kernel_size=3, padding=1, bias=False),  # Input: 1 channel -> 8 channels\n",
        "            nn.ReLU(),\n",
        "            nn.BatchNorm2d(32),\n",
        "            nn.Dropout(0.1),\n",
        "            nn.Conv2d(32, 32, kernel_size=3, stride=2, padding=0, bias=False),  # Transition with stride=2\n",
        "            nn.ReLU(),\n",
        "            nn.BatchNorm2d(32),\n",
        "            nn.Dropout(0.1),\n",
        "        )\n",
        "\n",
        "        # Convolution Block 1: Depthwise Separable Convolution\n",
        "        self.conv2 = nn.Sequential(\n",
        "            DepthwiseSeparableConv(32, 64, padding=1, bias=False),  # 8 -> 16 channels\n",
        "            nn.ReLU(),\n",
        "            nn.BatchNorm2d(64),\n",
        "            nn.Dropout(0.1),\n",
        "            DepthwiseSeparableConv(64, 64, padding=1, bias=False),  # 8 -> 16 channels\n",
        "            nn.ReLU(),\n",
        "            nn.BatchNorm2d(64),\n",
        "            nn.Dropout(0.1),\n",
        "            DepthwiseSeparableConv(64, 32, kernel_size=3, dilation=2, padding=0, bias=False),  # Transition with stride=2\n",
        "            nn.ReLU(),\n",
        "            nn.BatchNorm2d(32),\n",
        "            nn.Dropout(0.1),\n",
        "        )\n",
        "\n",
        "        self.conv3 = nn.Sequential(\n",
        "            nn.Conv2d(32, 64, kernel_size=3, padding=1, bias=False),\n",
        "            nn.ReLU(),\n",
        "            nn.BatchNorm2d(64),\n",
        "            nn.Dropout(0.1),\n",
        "            nn.Conv2d(64, 64, kernel_size=3, padding=1, bias=False),\n",
        "            nn.ReLU(),\n",
        "            nn.BatchNorm2d(64),\n",
        "            nn.Dropout(0.1),\n",
        "            nn.Conv2d(64, 32, kernel_size=3, stride=2, padding=0, bias=False),\n",
        "            nn.ReLU(),\n",
        "            nn.BatchNorm2d(32),\n",
        "            nn.Dropout(0.1),\n",
        "        )\n",
        "\n",
        "        # Convolution Block 3: Standard Convolution with Down-sampling\n",
        "        self.conv4 = nn.Sequential(\n",
        "            nn.Conv2d(32, 64, kernel_size=3, stride=1, padding=1, bias=False),  # Transition with stride=2\n",
        "            nn.ReLU(),\n",
        "            nn.BatchNorm2d(64),\n",
        "            nn.Dropout(0.1),\n",
        "            nn.Conv2d(64, 64, kernel_size=3, stride=1, padding=1, bias=False),  # Transition with stride=2\n",
        "            nn.ReLU(),\n",
        "            nn.BatchNorm2d(64),\n",
        "            nn.Dropout(0.1),\n",
        "            nn.Conv2d(64, 64, kernel_size=3, stride=2, padding=1, bias=False)  # Transition with stride=2\n",
        "        )\n",
        "\n",
        "        # Global Average Pooling (GAP) + Fully Connected Layer\n",
        "        self.gap = nn.AdaptiveAvgPool2d(1)  # GAP reduces to 1x1\n",
        "        # self.fc1 = nn.Linear(512, 256, bias=False)\n",
        "        # self.fc2 = nn.Linear(64, 32, bias=False)\n",
        "        self.fc3 = nn.Linear(64, 10, bias=False)  # Fully Connected Layer for 10 classes\n",
        "\n",
        "    def forward(self, x):\n",
        "      # input image size => [-1, 3, 64, 64]\n",
        "      x = self.conv1(x)  # output => [-1, 16, 64, 64]\n",
        "      x = self.conv2(x)\n",
        "      x = self.conv3(x)\n",
        "      x = self.conv4(x)\n",
        "      x = self.gap(x)    # Global Average Pooling\n",
        "      x = x.view(-1, 64)\n",
        "      # x = self.fc1(x)     # Fully Connected Layer\n",
        "      # x = self.fc2(x)     # Fully Connected Layer\n",
        "      x = self.fc3(x)     # Fully Connected Layer\n",
        "      return F.log_softmax(x, dim=1)  # Output probabilities (log-softmax for classification)"
      ]
    },
    {
      "cell_type": "markdown",
      "source": [
        "#### Block 1 (conv1):\n",
        "- Conv2d(3, 16, K=3, P=1, S=1):\n",
        "  - R = 1 + (3 - 1) * 1 = 3\n",
        "  - Jout = 1\n",
        "- Conv2d(16, 32, K=3, P=1, S=1):\n",
        "  - R = 3 + (3 - 1) * 1 = 5\n",
        "  - Jout = 1\n",
        "- Conv2d(32, 32, K=3, P=0, S=2):\n",
        "  - R = 5 + (3 - 1) * 1 = 7\n",
        "  - Jout = 1 * 2 = 2\n",
        "\n",
        "#### Block 2 (conv2: Depthwise Separable):\n",
        "- DepthwiseSeparableConv(32, 64, K=3, P=1, S=1):\n",
        "  - R = 7 + (3 - 1) * 2 = 11\n",
        "  - Jout = 2\n",
        "- DepthwiseSeparableConv(64, 64, K=3, P=1, S=1):\n",
        "  - R = 11 + (3 - 1) * 2 = 15\n",
        "  - Jout = 2\n",
        "- DepthwiseSeparableConv(64, 32, K=3, P=0, S=1, D=2):\n",
        "  - Effective Kernel: K_eff = 3 + 2 * (3 - 1) = 7\n",
        "  - R = 15 + (7 - 1) * 2 = 27\n",
        "  - Jout = 2\n",
        "\n",
        "#### Block 3 (conv3):\n",
        "- Conv2d(32, 64, K=3, P=1, S=1):\n",
        "  - R = 27 + (3 - 1) * 2 = 31\n",
        "  - Jout = 2\n",
        "- Conv2d(64, 64, K=3, P=1, S=1):\n",
        "  - R = 31 + (3 - 1) * 2 = 35\n",
        "  - Jout = 2\n",
        "- Conv2d(64, 32, K=3, P=0, S=2):\n",
        "  - R = 35 + (3 - 1) * 2 = 39\n",
        "  - Jout = 2 * 2 = 4\n",
        "\n",
        "#### Block 4 (conv4):\n",
        "- Conv2d(32, 64, K=3, P=1, S=1):\n",
        "  - R = 39 + (3 - 1) * 4 = 47\n",
        "  - Jout = 4\n",
        "- Conv2d(64, 64, K=3, P=1, S=1):\n",
        "  - R = 47 + (3 - 1) * 4 = 55\n",
        "  - Jout = 4\n",
        "- Conv2d(64, 64, K=3, P=1, S=2):\n",
        "  - R = 55 + (3 - 1) * 4 = 63\n",
        "  - Jout = 4 * 2 = 8"
      ],
      "metadata": {
        "id": "f6z1Od4QIyuu"
      }
    },
    {
      "cell_type": "markdown",
      "source": [
        "| Layer                           | Rin  | Rout | Jin  | Jout |\n",
        "|---------------------------------|-------|------|------|------|\n",
        "| **Input Image**                 | 1     | 1    | 1    | 1    |\n",
        "| **Block 1 (conv1)**             |       |      |      |      |\n",
        "| Conv2d(3, 16, K=3, P=1, S=1)    | 1     | 3    | 1    | 1    |\n",
        "| Conv2d(16, 32, K=3, P=1, S=1)   | 3     | 5    | 1    | 1    |\n",
        "| Conv2d(32, 32, K=3, P=0, S=2)   | 5     | 7    | 1    | 2    |\n",
        "| **Block 2 (conv2: Depthwise)**  |       |      |      |      |\n",
        "| DepthwiseSeparableConv(K=3, P=1)| 7     | 11   | 2    | 2    |\n",
        "| DepthwiseSeparableConv(K=3, P=1)| 11    | 15   | 2    | 2    |\n",
        "| DepthwiseSeparableConv(K=3, D=2)| 15    | 27   | 2    | 2    |\n",
        "| **Block 3 (conv3)**             |       |      |      |      |\n",
        "| Conv2d(32, 64, K=3, P=1, S=1)   | 27    | 31   | 2    | 2    |\n",
        "| Conv2d(64, 64, K=3, P=1, S=1)   | 31    | 35   | 2    | 2    |\n",
        "| Conv2d(64, 32, K=3, P=0, S=2)   | 35    | 39   | 2    | 4    |\n",
        "| **Block 4 (conv4)**             |       |      |      |      |\n",
        "| Conv2d(32, 64, K=3, P=1, S=1)   | 39    | 47   | 4    | 4    |\n",
        "| Conv2d(64, 64, K=3, P=1, S=1)   | 47    | 55   | 4    | 4    |\n",
        "| Conv2d(64, 64, K=3, P=1, S=2)   | 55    | 63   | 4    | 8    |\n",
        "| **GAP (Global Avg Pool)**       | 63    | Full | 8    | -    |\n"
      ],
      "metadata": {
        "id": "qBlv1zTwJzCH"
      }
    },
    {
      "cell_type": "code",
      "execution_count": null,
      "metadata": {
        "colab": {
          "base_uri": "https://localhost:8080/"
        },
        "id": "xdydjYTZFyi3",
        "outputId": "19d13844-296f-41f9-cf38-2a129c5d567f"
      },
      "outputs": [
        {
          "output_type": "stream",
          "name": "stdout",
          "text": [
            "----------------------------------------------------------------\n",
            "        Layer (type)               Output Shape         Param #\n",
            "================================================================\n",
            "            Conv2d-1           [-1, 16, 32, 32]             432\n",
            "              ReLU-2           [-1, 16, 32, 32]               0\n",
            "       BatchNorm2d-3           [-1, 16, 32, 32]              32\n",
            "           Dropout-4           [-1, 16, 32, 32]               0\n",
            "            Conv2d-5           [-1, 32, 32, 32]           4,608\n",
            "              ReLU-6           [-1, 32, 32, 32]               0\n",
            "       BatchNorm2d-7           [-1, 32, 32, 32]              64\n",
            "           Dropout-8           [-1, 32, 32, 32]               0\n",
            "            Conv2d-9           [-1, 32, 15, 15]           9,216\n",
            "             ReLU-10           [-1, 32, 15, 15]               0\n",
            "      BatchNorm2d-11           [-1, 32, 15, 15]              64\n",
            "          Dropout-12           [-1, 32, 15, 15]               0\n",
            "           Conv2d-13           [-1, 32, 15, 15]             288\n",
            "           Conv2d-14           [-1, 64, 15, 15]           2,048\n",
            "DepthwiseSeparableConv-15           [-1, 64, 15, 15]               0\n",
            "             ReLU-16           [-1, 64, 15, 15]               0\n",
            "      BatchNorm2d-17           [-1, 64, 15, 15]             128\n",
            "          Dropout-18           [-1, 64, 15, 15]               0\n",
            "           Conv2d-19           [-1, 64, 15, 15]             576\n",
            "           Conv2d-20           [-1, 64, 15, 15]           4,096\n",
            "DepthwiseSeparableConv-21           [-1, 64, 15, 15]               0\n",
            "             ReLU-22           [-1, 64, 15, 15]               0\n",
            "      BatchNorm2d-23           [-1, 64, 15, 15]             128\n",
            "          Dropout-24           [-1, 64, 15, 15]               0\n",
            "           Conv2d-25           [-1, 64, 11, 11]             576\n",
            "           Conv2d-26           [-1, 32, 11, 11]           2,048\n",
            "DepthwiseSeparableConv-27           [-1, 32, 11, 11]               0\n",
            "             ReLU-28           [-1, 32, 11, 11]               0\n",
            "      BatchNorm2d-29           [-1, 32, 11, 11]              64\n",
            "          Dropout-30           [-1, 32, 11, 11]               0\n",
            "           Conv2d-31           [-1, 64, 11, 11]          18,432\n",
            "             ReLU-32           [-1, 64, 11, 11]               0\n",
            "      BatchNorm2d-33           [-1, 64, 11, 11]             128\n",
            "          Dropout-34           [-1, 64, 11, 11]               0\n",
            "           Conv2d-35           [-1, 64, 11, 11]          36,864\n",
            "             ReLU-36           [-1, 64, 11, 11]               0\n",
            "      BatchNorm2d-37           [-1, 64, 11, 11]             128\n",
            "          Dropout-38           [-1, 64, 11, 11]               0\n",
            "           Conv2d-39             [-1, 32, 5, 5]          18,432\n",
            "             ReLU-40             [-1, 32, 5, 5]               0\n",
            "      BatchNorm2d-41             [-1, 32, 5, 5]              64\n",
            "          Dropout-42             [-1, 32, 5, 5]               0\n",
            "           Conv2d-43             [-1, 64, 5, 5]          18,432\n",
            "             ReLU-44             [-1, 64, 5, 5]               0\n",
            "      BatchNorm2d-45             [-1, 64, 5, 5]             128\n",
            "          Dropout-46             [-1, 64, 5, 5]               0\n",
            "           Conv2d-47             [-1, 64, 5, 5]          36,864\n",
            "             ReLU-48             [-1, 64, 5, 5]               0\n",
            "      BatchNorm2d-49             [-1, 64, 5, 5]             128\n",
            "          Dropout-50             [-1, 64, 5, 5]               0\n",
            "           Conv2d-51             [-1, 64, 3, 3]          36,864\n",
            "AdaptiveAvgPool2d-52             [-1, 64, 1, 1]               0\n",
            "           Linear-53                   [-1, 10]             640\n",
            "================================================================\n",
            "Total params: 191,472\n",
            "Trainable params: 191,472\n",
            "Non-trainable params: 0\n",
            "----------------------------------------------------------------\n",
            "Input size (MB): 0.01\n",
            "Forward/backward pass size (MB): 3.79\n",
            "Params size (MB): 0.73\n",
            "Estimated Total Size (MB): 4.53\n",
            "----------------------------------------------------------------\n"
          ]
        }
      ],
      "source": [
        "from torchsummary import summary\n",
        "use_cuda = torch.cuda.is_available()\n",
        "device = torch.device(\"cuda\" if use_cuda else \"cpu\")\n",
        "model = Net().to(device)\n",
        "summary(model, input_size=(3, 32, 32))"
      ]
    },
    {
      "cell_type": "code",
      "execution_count": null,
      "metadata": {
        "id": "cOumtsuPVU9R"
      },
      "outputs": [],
      "source": [
        "# Data to plot accuracy and loss graphs\n",
        "train_losses = []\n",
        "test_losses = []\n",
        "train_acc = []\n",
        "test_acc = []\n",
        "\n",
        "test_incorrect_pred = {'images': [], 'ground_truths': [], 'predicted_vals': []}"
      ]
    },
    {
      "cell_type": "code",
      "execution_count": null,
      "metadata": {
        "id": "8fDefDhaFlwH"
      },
      "outputs": [],
      "source": [
        "from tqdm import tqdm\n",
        "\n",
        "def GetCorrectPredCount(pPrediction, pLabels):\n",
        "  return pPrediction.argmax(dim=1).eq(pLabels).sum().item()\n",
        "\n",
        "def train(model, device, train_loader, optimizer, criterion, scheduler):\n",
        "  model.train()\n",
        "  pbar = tqdm(train_loader)\n",
        "\n",
        "  train_loss = 0\n",
        "  correct = 0\n",
        "  processed = 0\n",
        "\n",
        "  for batch_idx, (data, target) in enumerate(pbar):\n",
        "    data, target = data.to(device), target.to(device)\n",
        "    optimizer.zero_grad()\n",
        "\n",
        "    # Predict\n",
        "    pred = model(data)\n",
        "\n",
        "    # Calculate loss\n",
        "    loss = criterion(pred, target)\n",
        "    train_loss+=loss.item()\n",
        "\n",
        "    # Backpropagation\n",
        "    loss.backward()\n",
        "    optimizer.step()\n",
        "    scheduler.step()\n",
        "\n",
        "    correct += GetCorrectPredCount(pred, target)\n",
        "    processed += len(data)\n",
        "\n",
        "    pbar.set_description(desc= f'Train: Loss={loss.item():0.4f} Batch_id={batch_idx} Accuracy={100*correct/processed:0.2f}')\n",
        "\n",
        "  train_acc.append(100*correct/processed)\n",
        "  train_losses.append(train_loss/len(train_loader))\n",
        "\n",
        "def test(model, device, test_loader, criterion):\n",
        "    model.eval()\n",
        "\n",
        "    test_loss = 0\n",
        "    correct = 0\n",
        "\n",
        "    with torch.no_grad():\n",
        "        for batch_idx, (data, target) in enumerate(test_loader):\n",
        "            data, target = data.to(device), target.to(device)\n",
        "\n",
        "            output = model(data)\n",
        "            test_loss += criterion(output, target).item()  # sum up batch loss\n",
        "\n",
        "            correct += GetCorrectPredCount(output, target)\n",
        "\n",
        "\n",
        "    test_loss /= len(test_loader.dataset)\n",
        "    test_acc.append(100. * correct / len(test_loader.dataset))\n",
        "    test_losses.append(test_loss)\n",
        "\n",
        "    print('Test set: Average loss: {:.4f}, Accuracy: {}/{} ({:.2f}%)\\n'.format(\n",
        "        test_loss, correct, len(test_loader.dataset),\n",
        "        100. * correct / len(test_loader.dataset)))"
      ]
    },
    {
      "cell_type": "code",
      "execution_count": null,
      "metadata": {
        "colab": {
          "base_uri": "https://localhost:8080/"
        },
        "id": "MMWbLWO6FuHb",
        "outputId": "59dc9a94-04cd-4250-a8b0-93cefdac0716"
      },
      "outputs": [
        {
          "output_type": "stream",
          "name": "stderr",
          "text": [
            "Train: Loss=1.5881 Batch_id=390 Accuracy=29.28: 100%|██████████| 391/391 [00:52<00:00,  7.50it/s]\n"
          ]
        },
        {
          "output_type": "stream",
          "name": "stdout",
          "text": [
            "Test set: Average loss: 0.0131, Accuracy: 3836/10000 (38.36%)\n",
            "\n",
            "epoch 1 Done\n"
          ]
        },
        {
          "output_type": "stream",
          "name": "stderr",
          "text": [
            "Train: Loss=1.2173 Batch_id=390 Accuracy=48.44: 100%|██████████| 391/391 [00:48<00:00,  8.02it/s]\n"
          ]
        },
        {
          "output_type": "stream",
          "name": "stdout",
          "text": [
            "Test set: Average loss: 0.0103, Accuracy: 5379/10000 (53.79%)\n",
            "\n",
            "epoch 2 Done\n"
          ]
        },
        {
          "output_type": "stream",
          "name": "stderr",
          "text": [
            "Train: Loss=0.9397 Batch_id=390 Accuracy=56.50: 100%|██████████| 391/391 [00:47<00:00,  8.28it/s]\n"
          ]
        },
        {
          "output_type": "stream",
          "name": "stdout",
          "text": [
            "Test set: Average loss: 0.0082, Accuracy: 6393/10000 (63.93%)\n",
            "\n",
            "epoch 3 Done\n"
          ]
        },
        {
          "output_type": "stream",
          "name": "stderr",
          "text": [
            "Train: Loss=0.8118 Batch_id=390 Accuracy=60.77: 100%|██████████| 391/391 [00:47<00:00,  8.24it/s]\n"
          ]
        },
        {
          "output_type": "stream",
          "name": "stdout",
          "text": [
            "Test set: Average loss: 0.0073, Accuracy: 6662/10000 (66.62%)\n",
            "\n",
            "epoch 4 Done\n"
          ]
        },
        {
          "output_type": "stream",
          "name": "stderr",
          "text": [
            "Train: Loss=1.0094 Batch_id=390 Accuracy=63.80: 100%|██████████| 391/391 [00:51<00:00,  7.66it/s]\n"
          ]
        },
        {
          "output_type": "stream",
          "name": "stdout",
          "text": [
            "Test set: Average loss: 0.0072, Accuracy: 6878/10000 (68.78%)\n",
            "\n",
            "epoch 5 Done\n"
          ]
        },
        {
          "output_type": "stream",
          "name": "stderr",
          "text": [
            "Train: Loss=0.8497 Batch_id=390 Accuracy=66.27: 100%|██████████| 391/391 [00:47<00:00,  8.22it/s]\n"
          ]
        },
        {
          "output_type": "stream",
          "name": "stdout",
          "text": [
            "Test set: Average loss: 0.0066, Accuracy: 7090/10000 (70.90%)\n",
            "\n",
            "epoch 6 Done\n"
          ]
        },
        {
          "output_type": "stream",
          "name": "stderr",
          "text": [
            "Train: Loss=0.9749 Batch_id=390 Accuracy=68.14: 100%|██████████| 391/391 [00:51<00:00,  7.62it/s]\n"
          ]
        },
        {
          "output_type": "stream",
          "name": "stdout",
          "text": [
            "Test set: Average loss: 0.0060, Accuracy: 7322/10000 (73.22%)\n",
            "\n",
            "epoch 7 Done\n"
          ]
        },
        {
          "output_type": "stream",
          "name": "stderr",
          "text": [
            "Train: Loss=0.7596 Batch_id=390 Accuracy=69.53: 100%|██████████| 391/391 [00:46<00:00,  8.39it/s]\n"
          ]
        },
        {
          "output_type": "stream",
          "name": "stdout",
          "text": [
            "Test set: Average loss: 0.0057, Accuracy: 7490/10000 (74.90%)\n",
            "\n",
            "epoch 8 Done\n"
          ]
        },
        {
          "output_type": "stream",
          "name": "stderr",
          "text": [
            "Train: Loss=0.7559 Batch_id=390 Accuracy=71.17: 100%|██████████| 391/391 [00:48<00:00,  8.12it/s]\n"
          ]
        },
        {
          "output_type": "stream",
          "name": "stdout",
          "text": [
            "Test set: Average loss: 0.0055, Accuracy: 7620/10000 (76.20%)\n",
            "\n",
            "epoch 9 Done\n"
          ]
        },
        {
          "output_type": "stream",
          "name": "stderr",
          "text": [
            "Train: Loss=0.8847 Batch_id=390 Accuracy=71.99: 100%|██████████| 391/391 [00:48<00:00,  8.12it/s]\n"
          ]
        },
        {
          "output_type": "stream",
          "name": "stdout",
          "text": [
            "Test set: Average loss: 0.0052, Accuracy: 7688/10000 (76.88%)\n",
            "\n",
            "epoch 10 Done\n"
          ]
        },
        {
          "output_type": "stream",
          "name": "stderr",
          "text": [
            "Train: Loss=0.8515 Batch_id=390 Accuracy=72.99: 100%|██████████| 391/391 [00:49<00:00,  7.96it/s]\n"
          ]
        },
        {
          "output_type": "stream",
          "name": "stdout",
          "text": [
            "Test set: Average loss: 0.0051, Accuracy: 7766/10000 (77.66%)\n",
            "\n",
            "epoch 11 Done\n"
          ]
        },
        {
          "output_type": "stream",
          "name": "stderr",
          "text": [
            "Train: Loss=0.5854 Batch_id=390 Accuracy=73.75: 100%|██████████| 391/391 [00:46<00:00,  8.45it/s]\n"
          ]
        },
        {
          "output_type": "stream",
          "name": "stdout",
          "text": [
            "Test set: Average loss: 0.0051, Accuracy: 7835/10000 (78.35%)\n",
            "\n",
            "epoch 12 Done\n"
          ]
        },
        {
          "output_type": "stream",
          "name": "stderr",
          "text": [
            "Train: Loss=0.6805 Batch_id=390 Accuracy=74.54: 100%|██████████| 391/391 [00:47<00:00,  8.32it/s]\n"
          ]
        },
        {
          "output_type": "stream",
          "name": "stdout",
          "text": [
            "Test set: Average loss: 0.0049, Accuracy: 7893/10000 (78.93%)\n",
            "\n",
            "epoch 13 Done\n"
          ]
        },
        {
          "output_type": "stream",
          "name": "stderr",
          "text": [
            "Train: Loss=0.8391 Batch_id=390 Accuracy=75.26: 100%|██████████| 391/391 [00:47<00:00,  8.27it/s]\n"
          ]
        },
        {
          "output_type": "stream",
          "name": "stdout",
          "text": [
            "Test set: Average loss: 0.0047, Accuracy: 7970/10000 (79.70%)\n",
            "\n",
            "epoch 14 Done\n"
          ]
        },
        {
          "output_type": "stream",
          "name": "stderr",
          "text": [
            "Train: Loss=0.7375 Batch_id=390 Accuracy=75.53: 100%|██████████| 391/391 [00:48<00:00,  8.13it/s]\n"
          ]
        },
        {
          "output_type": "stream",
          "name": "stdout",
          "text": [
            "Test set: Average loss: 0.0043, Accuracy: 8075/10000 (80.75%)\n",
            "\n",
            "epoch 15 Done\n"
          ]
        },
        {
          "output_type": "stream",
          "name": "stderr",
          "text": [
            "Train: Loss=0.7402 Batch_id=390 Accuracy=76.19: 100%|██████████| 391/391 [00:50<00:00,  7.76it/s]\n"
          ]
        },
        {
          "output_type": "stream",
          "name": "stdout",
          "text": [
            "Test set: Average loss: 0.0046, Accuracy: 8066/10000 (80.66%)\n",
            "\n",
            "epoch 16 Done\n"
          ]
        },
        {
          "output_type": "stream",
          "name": "stderr",
          "text": [
            "Train: Loss=0.7527 Batch_id=390 Accuracy=76.46: 100%|██████████| 391/391 [00:46<00:00,  8.39it/s]\n"
          ]
        },
        {
          "output_type": "stream",
          "name": "stdout",
          "text": [
            "Test set: Average loss: 0.0047, Accuracy: 7904/10000 (79.04%)\n",
            "\n",
            "epoch 17 Done\n"
          ]
        },
        {
          "output_type": "stream",
          "name": "stderr",
          "text": [
            "Train: Loss=0.5689 Batch_id=390 Accuracy=76.90: 100%|██████████| 391/391 [00:46<00:00,  8.39it/s]\n"
          ]
        },
        {
          "output_type": "stream",
          "name": "stdout",
          "text": [
            "Test set: Average loss: 0.0043, Accuracy: 8174/10000 (81.74%)\n",
            "\n",
            "epoch 18 Done\n"
          ]
        },
        {
          "output_type": "stream",
          "name": "stderr",
          "text": [
            "Train: Loss=0.8086 Batch_id=390 Accuracy=77.13: 100%|██████████| 391/391 [00:48<00:00,  8.04it/s]\n"
          ]
        },
        {
          "output_type": "stream",
          "name": "stdout",
          "text": [
            "Test set: Average loss: 0.0042, Accuracy: 8197/10000 (81.97%)\n",
            "\n",
            "epoch 19 Done\n"
          ]
        },
        {
          "output_type": "stream",
          "name": "stderr",
          "text": [
            "Train: Loss=0.8336 Batch_id=390 Accuracy=77.41: 100%|██████████| 391/391 [00:47<00:00,  8.29it/s]\n"
          ]
        },
        {
          "output_type": "stream",
          "name": "stdout",
          "text": [
            "Test set: Average loss: 0.0041, Accuracy: 8186/10000 (81.86%)\n",
            "\n",
            "epoch 20 Done\n"
          ]
        },
        {
          "output_type": "stream",
          "name": "stderr",
          "text": [
            "Train: Loss=0.8874 Batch_id=390 Accuracy=78.12: 100%|██████████| 391/391 [00:49<00:00,  7.87it/s]\n"
          ]
        },
        {
          "output_type": "stream",
          "name": "stdout",
          "text": [
            "Test set: Average loss: 0.0041, Accuracy: 8179/10000 (81.79%)\n",
            "\n",
            "epoch 21 Done\n"
          ]
        },
        {
          "output_type": "stream",
          "name": "stderr",
          "text": [
            "Train: Loss=0.6564 Batch_id=390 Accuracy=78.32: 100%|██████████| 391/391 [00:47<00:00,  8.27it/s]\n"
          ]
        },
        {
          "output_type": "stream",
          "name": "stdout",
          "text": [
            "Test set: Average loss: 0.0040, Accuracy: 8281/10000 (82.81%)\n",
            "\n",
            "epoch 22 Done\n"
          ]
        },
        {
          "output_type": "stream",
          "name": "stderr",
          "text": [
            "Train: Loss=0.6644 Batch_id=390 Accuracy=78.68: 100%|██████████| 391/391 [00:47<00:00,  8.22it/s]\n"
          ]
        },
        {
          "output_type": "stream",
          "name": "stdout",
          "text": [
            "Test set: Average loss: 0.0039, Accuracy: 8301/10000 (83.01%)\n",
            "\n",
            "epoch 23 Done\n"
          ]
        },
        {
          "output_type": "stream",
          "name": "stderr",
          "text": [
            "Train: Loss=0.6439 Batch_id=390 Accuracy=78.93: 100%|██████████| 391/391 [00:48<00:00,  8.13it/s]\n"
          ]
        },
        {
          "output_type": "stream",
          "name": "stdout",
          "text": [
            "Test set: Average loss: 0.0037, Accuracy: 8392/10000 (83.92%)\n",
            "\n",
            "epoch 24 Done\n"
          ]
        },
        {
          "output_type": "stream",
          "name": "stderr",
          "text": [
            "Train: Loss=0.5986 Batch_id=390 Accuracy=79.23: 100%|██████████| 391/391 [00:48<00:00,  8.03it/s]\n"
          ]
        },
        {
          "output_type": "stream",
          "name": "stdout",
          "text": [
            "Test set: Average loss: 0.0038, Accuracy: 8365/10000 (83.65%)\n",
            "\n",
            "epoch 25 Done\n"
          ]
        },
        {
          "output_type": "stream",
          "name": "stderr",
          "text": [
            "Train: Loss=0.5954 Batch_id=390 Accuracy=79.38: 100%|██████████| 391/391 [00:46<00:00,  8.33it/s]\n"
          ]
        },
        {
          "output_type": "stream",
          "name": "stdout",
          "text": [
            "Test set: Average loss: 0.0040, Accuracy: 8263/10000 (82.63%)\n",
            "\n",
            "epoch 26 Done\n"
          ]
        },
        {
          "output_type": "stream",
          "name": "stderr",
          "text": [
            "Train: Loss=0.6682 Batch_id=390 Accuracy=79.49: 100%|██████████| 391/391 [00:46<00:00,  8.33it/s]\n"
          ]
        },
        {
          "output_type": "stream",
          "name": "stdout",
          "text": [
            "Test set: Average loss: 0.0039, Accuracy: 8318/10000 (83.18%)\n",
            "\n",
            "epoch 27 Done\n"
          ]
        },
        {
          "output_type": "stream",
          "name": "stderr",
          "text": [
            "Train: Loss=0.5935 Batch_id=390 Accuracy=79.68: 100%|██████████| 391/391 [00:48<00:00,  7.99it/s]\n"
          ]
        },
        {
          "output_type": "stream",
          "name": "stdout",
          "text": [
            "Test set: Average loss: 0.0038, Accuracy: 8395/10000 (83.95%)\n",
            "\n",
            "epoch 28 Done\n"
          ]
        },
        {
          "output_type": "stream",
          "name": "stderr",
          "text": [
            "Train: Loss=0.6101 Batch_id=390 Accuracy=80.00: 100%|██████████| 391/391 [00:46<00:00,  8.44it/s]\n"
          ]
        },
        {
          "output_type": "stream",
          "name": "stdout",
          "text": [
            "Test set: Average loss: 0.0038, Accuracy: 8334/10000 (83.34%)\n",
            "\n",
            "epoch 29 Done\n"
          ]
        },
        {
          "output_type": "stream",
          "name": "stderr",
          "text": [
            "Train: Loss=0.5794 Batch_id=390 Accuracy=80.26: 100%|██████████| 391/391 [00:50<00:00,  7.77it/s]\n"
          ]
        },
        {
          "output_type": "stream",
          "name": "stdout",
          "text": [
            "Test set: Average loss: 0.0036, Accuracy: 8433/10000 (84.33%)\n",
            "\n",
            "epoch 30 Done\n"
          ]
        },
        {
          "output_type": "stream",
          "name": "stderr",
          "text": [
            "Train: Loss=0.6229 Batch_id=390 Accuracy=80.33: 100%|██████████| 391/391 [00:46<00:00,  8.40it/s]\n"
          ]
        },
        {
          "output_type": "stream",
          "name": "stdout",
          "text": [
            "Test set: Average loss: 0.0038, Accuracy: 8320/10000 (83.20%)\n",
            "\n",
            "epoch 31 Done\n"
          ]
        },
        {
          "output_type": "stream",
          "name": "stderr",
          "text": [
            "Train: Loss=0.6138 Batch_id=390 Accuracy=80.47: 100%|██████████| 391/391 [00:49<00:00,  7.95it/s]\n"
          ]
        },
        {
          "output_type": "stream",
          "name": "stdout",
          "text": [
            "Test set: Average loss: 0.0036, Accuracy: 8403/10000 (84.03%)\n",
            "\n",
            "epoch 32 Done\n"
          ]
        },
        {
          "output_type": "stream",
          "name": "stderr",
          "text": [
            "Train: Loss=0.5501 Batch_id=390 Accuracy=80.71: 100%|██████████| 391/391 [00:48<00:00,  8.09it/s]\n"
          ]
        },
        {
          "output_type": "stream",
          "name": "stdout",
          "text": [
            "Test set: Average loss: 0.0035, Accuracy: 8507/10000 (85.07%)\n",
            "\n",
            "epoch 33 Done\n"
          ]
        },
        {
          "output_type": "stream",
          "name": "stderr",
          "text": [
            "Train: Loss=0.4963 Batch_id=390 Accuracy=80.78: 100%|██████████| 391/391 [00:48<00:00,  8.04it/s]\n"
          ]
        },
        {
          "output_type": "stream",
          "name": "stdout",
          "text": [
            "Test set: Average loss: 0.0036, Accuracy: 8419/10000 (84.19%)\n",
            "\n",
            "epoch 34 Done\n"
          ]
        },
        {
          "output_type": "stream",
          "name": "stderr",
          "text": [
            "Train: Loss=0.8379 Batch_id=390 Accuracy=81.27: 100%|██████████| 391/391 [00:46<00:00,  8.35it/s]\n"
          ]
        },
        {
          "output_type": "stream",
          "name": "stdout",
          "text": [
            "Test set: Average loss: 0.0036, Accuracy: 8430/10000 (84.30%)\n",
            "\n",
            "epoch 35 Done\n"
          ]
        },
        {
          "output_type": "stream",
          "name": "stderr",
          "text": [
            "Train: Loss=0.6178 Batch_id=390 Accuracy=81.06: 100%|██████████| 391/391 [00:46<00:00,  8.46it/s]\n"
          ]
        },
        {
          "output_type": "stream",
          "name": "stdout",
          "text": [
            "Test set: Average loss: 0.0034, Accuracy: 8507/10000 (85.07%)\n",
            "\n",
            "epoch 36 Done\n"
          ]
        },
        {
          "output_type": "stream",
          "name": "stderr",
          "text": [
            "Train: Loss=0.2954 Batch_id=390 Accuracy=81.36: 100%|██████████| 391/391 [00:49<00:00,  7.92it/s]\n"
          ]
        },
        {
          "output_type": "stream",
          "name": "stdout",
          "text": [
            "Test set: Average loss: 0.0035, Accuracy: 8484/10000 (84.84%)\n",
            "\n",
            "epoch 37 Done\n"
          ]
        },
        {
          "output_type": "stream",
          "name": "stderr",
          "text": [
            "Train: Loss=0.3450 Batch_id=390 Accuracy=81.56: 100%|██████████| 391/391 [00:46<00:00,  8.37it/s]\n"
          ]
        },
        {
          "output_type": "stream",
          "name": "stdout",
          "text": [
            "Test set: Average loss: 0.0036, Accuracy: 8432/10000 (84.32%)\n",
            "\n",
            "epoch 38 Done\n"
          ]
        },
        {
          "output_type": "stream",
          "name": "stderr",
          "text": [
            "Train: Loss=0.7354 Batch_id=390 Accuracy=81.83: 100%|██████████| 391/391 [00:49<00:00,  7.95it/s]\n"
          ]
        },
        {
          "output_type": "stream",
          "name": "stdout",
          "text": [
            "Test set: Average loss: 0.0033, Accuracy: 8587/10000 (85.87%)\n",
            "\n",
            "epoch 39 Done\n"
          ]
        },
        {
          "output_type": "stream",
          "name": "stderr",
          "text": [
            "Train: Loss=0.4864 Batch_id=390 Accuracy=81.63: 100%|██████████| 391/391 [00:46<00:00,  8.46it/s]\n"
          ]
        },
        {
          "output_type": "stream",
          "name": "stdout",
          "text": [
            "Test set: Average loss: 0.0035, Accuracy: 8519/10000 (85.19%)\n",
            "\n",
            "epoch 40 Done\n"
          ]
        },
        {
          "output_type": "stream",
          "name": "stderr",
          "text": [
            "Train: Loss=0.4910 Batch_id=390 Accuracy=81.69: 100%|██████████| 391/391 [00:46<00:00,  8.39it/s]\n"
          ]
        },
        {
          "output_type": "stream",
          "name": "stdout",
          "text": [
            "Test set: Average loss: 0.0034, Accuracy: 8533/10000 (85.33%)\n",
            "\n",
            "epoch 41 Done\n"
          ]
        },
        {
          "output_type": "stream",
          "name": "stderr",
          "text": [
            "Train: Loss=0.5102 Batch_id=390 Accuracy=81.95: 100%|██████████| 391/391 [00:49<00:00,  7.97it/s]\n"
          ]
        },
        {
          "output_type": "stream",
          "name": "stdout",
          "text": [
            "Test set: Average loss: 0.0034, Accuracy: 8541/10000 (85.41%)\n",
            "\n",
            "epoch 42 Done\n"
          ]
        },
        {
          "output_type": "stream",
          "name": "stderr",
          "text": [
            "Train: Loss=0.4943 Batch_id=390 Accuracy=82.12: 100%|██████████| 391/391 [00:48<00:00,  8.03it/s]\n"
          ]
        },
        {
          "output_type": "stream",
          "name": "stdout",
          "text": [
            "Test set: Average loss: 0.0034, Accuracy: 8519/10000 (85.19%)\n",
            "\n",
            "epoch 43 Done\n"
          ]
        },
        {
          "output_type": "stream",
          "name": "stderr",
          "text": [
            "Train: Loss=0.6537 Batch_id=390 Accuracy=82.06: 100%|██████████| 391/391 [00:47<00:00,  8.31it/s]\n"
          ]
        },
        {
          "output_type": "stream",
          "name": "stdout",
          "text": [
            "Test set: Average loss: 0.0032, Accuracy: 8599/10000 (85.99%)\n",
            "\n",
            "epoch 44 Done\n"
          ]
        },
        {
          "output_type": "stream",
          "name": "stderr",
          "text": [
            "Train: Loss=0.4852 Batch_id=390 Accuracy=82.49: 100%|██████████| 391/391 [00:46<00:00,  8.40it/s]\n"
          ]
        },
        {
          "output_type": "stream",
          "name": "stdout",
          "text": [
            "Test set: Average loss: 0.0032, Accuracy: 8619/10000 (86.19%)\n",
            "\n",
            "epoch 45 Done\n"
          ]
        },
        {
          "output_type": "stream",
          "name": "stderr",
          "text": [
            "Train: Loss=0.6475 Batch_id=390 Accuracy=82.40: 100%|██████████| 391/391 [00:48<00:00,  8.08it/s]\n"
          ]
        },
        {
          "output_type": "stream",
          "name": "stdout",
          "text": [
            "Test set: Average loss: 0.0034, Accuracy: 8580/10000 (85.80%)\n",
            "\n",
            "epoch 46 Done\n"
          ]
        },
        {
          "output_type": "stream",
          "name": "stderr",
          "text": [
            "Train: Loss=0.4377 Batch_id=390 Accuracy=82.80: 100%|██████████| 391/391 [00:48<00:00,  8.13it/s]\n"
          ]
        },
        {
          "output_type": "stream",
          "name": "stdout",
          "text": [
            "Test set: Average loss: 0.0035, Accuracy: 8516/10000 (85.16%)\n",
            "\n",
            "epoch 47 Done\n"
          ]
        },
        {
          "output_type": "stream",
          "name": "stderr",
          "text": [
            "Train: Loss=0.3651 Batch_id=390 Accuracy=82.78: 100%|██████████| 391/391 [00:49<00:00,  7.91it/s]\n"
          ]
        },
        {
          "output_type": "stream",
          "name": "stdout",
          "text": [
            "Test set: Average loss: 0.0031, Accuracy: 8640/10000 (86.40%)\n",
            "\n",
            "epoch 48 Done\n"
          ]
        },
        {
          "output_type": "stream",
          "name": "stderr",
          "text": [
            "Train: Loss=0.3760 Batch_id=390 Accuracy=82.94: 100%|██████████| 391/391 [00:48<00:00,  8.01it/s]\n"
          ]
        },
        {
          "output_type": "stream",
          "name": "stdout",
          "text": [
            "Test set: Average loss: 0.0035, Accuracy: 8468/10000 (84.68%)\n",
            "\n",
            "epoch 49 Done\n"
          ]
        },
        {
          "output_type": "stream",
          "name": "stderr",
          "text": [
            "Train: Loss=0.3763 Batch_id=390 Accuracy=82.96: 100%|██████████| 391/391 [00:47<00:00,  8.21it/s]\n"
          ]
        },
        {
          "output_type": "stream",
          "name": "stdout",
          "text": [
            "Test set: Average loss: 0.0034, Accuracy: 8509/10000 (85.09%)\n",
            "\n",
            "epoch 50 Done\n"
          ]
        },
        {
          "output_type": "stream",
          "name": "stderr",
          "text": [
            "Train: Loss=0.3983 Batch_id=390 Accuracy=82.76: 100%|██████████| 391/391 [00:49<00:00,  7.98it/s]\n"
          ]
        },
        {
          "output_type": "stream",
          "name": "stdout",
          "text": [
            "Test set: Average loss: 0.0032, Accuracy: 8634/10000 (86.34%)\n",
            "\n",
            "epoch 51 Done\n"
          ]
        },
        {
          "output_type": "stream",
          "name": "stderr",
          "text": [
            "Train: Loss=0.4414 Batch_id=390 Accuracy=83.12: 100%|██████████| 391/391 [00:48<00:00,  8.02it/s]\n"
          ]
        },
        {
          "output_type": "stream",
          "name": "stdout",
          "text": [
            "Test set: Average loss: 0.0032, Accuracy: 8646/10000 (86.46%)\n",
            "\n",
            "epoch 52 Done\n"
          ]
        },
        {
          "output_type": "stream",
          "name": "stderr",
          "text": [
            "Train: Loss=0.4402 Batch_id=390 Accuracy=83.20: 100%|██████████| 391/391 [00:47<00:00,  8.21it/s]\n"
          ]
        },
        {
          "output_type": "stream",
          "name": "stdout",
          "text": [
            "Test set: Average loss: 0.0031, Accuracy: 8667/10000 (86.67%)\n",
            "\n",
            "epoch 53 Done\n"
          ]
        },
        {
          "output_type": "stream",
          "name": "stderr",
          "text": [
            "Train: Loss=0.4438 Batch_id=390 Accuracy=83.26: 100%|██████████| 391/391 [00:47<00:00,  8.29it/s]\n"
          ]
        },
        {
          "output_type": "stream",
          "name": "stdout",
          "text": [
            "Test set: Average loss: 0.0033, Accuracy: 8572/10000 (85.72%)\n",
            "\n",
            "epoch 54 Done\n"
          ]
        },
        {
          "output_type": "stream",
          "name": "stderr",
          "text": [
            "Train: Loss=0.5656 Batch_id=390 Accuracy=83.43: 100%|██████████| 391/391 [00:48<00:00,  8.04it/s]\n"
          ]
        },
        {
          "output_type": "stream",
          "name": "stdout",
          "text": [
            "Test set: Average loss: 0.0031, Accuracy: 8640/10000 (86.40%)\n",
            "\n",
            "epoch 55 Done\n"
          ]
        },
        {
          "output_type": "stream",
          "name": "stderr",
          "text": [
            "Train: Loss=0.5203 Batch_id=390 Accuracy=83.28: 100%|██████████| 391/391 [00:49<00:00,  7.92it/s]\n"
          ]
        },
        {
          "output_type": "stream",
          "name": "stdout",
          "text": [
            "Test set: Average loss: 0.0031, Accuracy: 8709/10000 (87.09%)\n",
            "\n",
            "epoch 56 Done\n"
          ]
        },
        {
          "output_type": "stream",
          "name": "stderr",
          "text": [
            "Train: Loss=0.4969 Batch_id=390 Accuracy=83.41: 100%|██████████| 391/391 [00:46<00:00,  8.43it/s]\n"
          ]
        },
        {
          "output_type": "stream",
          "name": "stdout",
          "text": [
            "Test set: Average loss: 0.0033, Accuracy: 8579/10000 (85.79%)\n",
            "\n",
            "epoch 57 Done\n"
          ]
        },
        {
          "output_type": "stream",
          "name": "stderr",
          "text": [
            "Train: Loss=0.5919 Batch_id=390 Accuracy=83.55: 100%|██████████| 391/391 [00:46<00:00,  8.41it/s]\n"
          ]
        },
        {
          "output_type": "stream",
          "name": "stdout",
          "text": [
            "Test set: Average loss: 0.0031, Accuracy: 8679/10000 (86.79%)\n",
            "\n",
            "epoch 58 Done\n"
          ]
        },
        {
          "output_type": "stream",
          "name": "stderr",
          "text": [
            "Train: Loss=0.5583 Batch_id=390 Accuracy=83.68: 100%|██████████| 391/391 [00:49<00:00,  7.89it/s]\n"
          ]
        },
        {
          "output_type": "stream",
          "name": "stdout",
          "text": [
            "Test set: Average loss: 0.0032, Accuracy: 8616/10000 (86.16%)\n",
            "\n",
            "epoch 59 Done\n"
          ]
        },
        {
          "output_type": "stream",
          "name": "stderr",
          "text": [
            "Train: Loss=0.5612 Batch_id=390 Accuracy=83.59: 100%|██████████| 391/391 [00:47<00:00,  8.22it/s]\n"
          ]
        },
        {
          "output_type": "stream",
          "name": "stdout",
          "text": [
            "Test set: Average loss: 0.0030, Accuracy: 8676/10000 (86.76%)\n",
            "\n",
            "epoch 60 Done\n"
          ]
        },
        {
          "output_type": "stream",
          "name": "stderr",
          "text": [
            "Train: Loss=0.3246 Batch_id=390 Accuracy=83.86: 100%|██████████| 391/391 [00:48<00:00,  8.05it/s]\n"
          ]
        },
        {
          "output_type": "stream",
          "name": "stdout",
          "text": [
            "Test set: Average loss: 0.0032, Accuracy: 8602/10000 (86.02%)\n",
            "\n",
            "epoch 61 Done\n"
          ]
        },
        {
          "output_type": "stream",
          "name": "stderr",
          "text": [
            "Train: Loss=0.4320 Batch_id=390 Accuracy=83.74: 100%|██████████| 391/391 [00:47<00:00,  8.31it/s]\n"
          ]
        },
        {
          "output_type": "stream",
          "name": "stdout",
          "text": [
            "Test set: Average loss: 0.0030, Accuracy: 8675/10000 (86.75%)\n",
            "\n",
            "epoch 62 Done\n"
          ]
        },
        {
          "output_type": "stream",
          "name": "stderr",
          "text": [
            "Train: Loss=0.5722 Batch_id=390 Accuracy=83.92: 100%|██████████| 391/391 [00:48<00:00,  7.99it/s]\n"
          ]
        },
        {
          "output_type": "stream",
          "name": "stdout",
          "text": [
            "Test set: Average loss: 0.0031, Accuracy: 8629/10000 (86.29%)\n",
            "\n",
            "epoch 63 Done\n"
          ]
        },
        {
          "output_type": "stream",
          "name": "stderr",
          "text": [
            "Train: Loss=0.2096 Batch_id=390 Accuracy=83.96: 100%|██████████| 391/391 [00:46<00:00,  8.37it/s]\n"
          ]
        },
        {
          "output_type": "stream",
          "name": "stdout",
          "text": [
            "Test set: Average loss: 0.0030, Accuracy: 8708/10000 (87.08%)\n",
            "\n",
            "epoch 64 Done\n"
          ]
        },
        {
          "output_type": "stream",
          "name": "stderr",
          "text": [
            "Train: Loss=0.3814 Batch_id=390 Accuracy=83.94: 100%|██████████| 391/391 [00:47<00:00,  8.15it/s]\n"
          ]
        },
        {
          "output_type": "stream",
          "name": "stdout",
          "text": [
            "Test set: Average loss: 0.0031, Accuracy: 8653/10000 (86.53%)\n",
            "\n",
            "epoch 65 Done\n"
          ]
        },
        {
          "output_type": "stream",
          "name": "stderr",
          "text": [
            "Train: Loss=0.5244 Batch_id=390 Accuracy=84.01: 100%|██████████| 391/391 [00:47<00:00,  8.22it/s]\n"
          ]
        },
        {
          "output_type": "stream",
          "name": "stdout",
          "text": [
            "Test set: Average loss: 0.0030, Accuracy: 8686/10000 (86.86%)\n",
            "\n",
            "epoch 66 Done\n"
          ]
        },
        {
          "output_type": "stream",
          "name": "stderr",
          "text": [
            "Train: Loss=0.5006 Batch_id=390 Accuracy=84.17: 100%|██████████| 391/391 [00:46<00:00,  8.50it/s]\n"
          ]
        },
        {
          "output_type": "stream",
          "name": "stdout",
          "text": [
            "Test set: Average loss: 0.0031, Accuracy: 8726/10000 (87.26%)\n",
            "\n",
            "epoch 67 Done\n"
          ]
        },
        {
          "output_type": "stream",
          "name": "stderr",
          "text": [
            "Train: Loss=0.4367 Batch_id=390 Accuracy=84.04: 100%|██████████| 391/391 [00:48<00:00,  8.03it/s]\n"
          ]
        },
        {
          "output_type": "stream",
          "name": "stdout",
          "text": [
            "Test set: Average loss: 0.0029, Accuracy: 8749/10000 (87.49%)\n",
            "\n",
            "epoch 68 Done\n"
          ]
        },
        {
          "output_type": "stream",
          "name": "stderr",
          "text": [
            "Train: Loss=0.4551 Batch_id=390 Accuracy=84.27: 100%|██████████| 391/391 [00:48<00:00,  8.09it/s]\n"
          ]
        },
        {
          "output_type": "stream",
          "name": "stdout",
          "text": [
            "Test set: Average loss: 0.0029, Accuracy: 8716/10000 (87.16%)\n",
            "\n",
            "epoch 69 Done\n"
          ]
        },
        {
          "output_type": "stream",
          "name": "stderr",
          "text": [
            "Train: Loss=0.4999 Batch_id=390 Accuracy=84.48: 100%|██████████| 391/391 [00:46<00:00,  8.33it/s]\n"
          ]
        },
        {
          "output_type": "stream",
          "name": "stdout",
          "text": [
            "Test set: Average loss: 0.0030, Accuracy: 8713/10000 (87.13%)\n",
            "\n",
            "epoch 70 Done\n"
          ]
        },
        {
          "output_type": "stream",
          "name": "stderr",
          "text": [
            "Train: Loss=0.4139 Batch_id=390 Accuracy=84.53: 100%|██████████| 391/391 [00:48<00:00,  8.01it/s]\n"
          ]
        },
        {
          "output_type": "stream",
          "name": "stdout",
          "text": [
            "Test set: Average loss: 0.0029, Accuracy: 8740/10000 (87.40%)\n",
            "\n",
            "epoch 71 Done\n"
          ]
        },
        {
          "output_type": "stream",
          "name": "stderr",
          "text": [
            "Train: Loss=0.4256 Batch_id=390 Accuracy=84.48: 100%|██████████| 391/391 [00:48<00:00,  8.04it/s]\n"
          ]
        },
        {
          "output_type": "stream",
          "name": "stdout",
          "text": [
            "Test set: Average loss: 0.0030, Accuracy: 8692/10000 (86.92%)\n",
            "\n",
            "epoch 72 Done\n"
          ]
        },
        {
          "output_type": "stream",
          "name": "stderr",
          "text": [
            "Train: Loss=0.3319 Batch_id=390 Accuracy=84.87: 100%|██████████| 391/391 [00:48<00:00,  7.99it/s]\n"
          ]
        },
        {
          "output_type": "stream",
          "name": "stdout",
          "text": [
            "Test set: Average loss: 0.0030, Accuracy: 8713/10000 (87.13%)\n",
            "\n",
            "epoch 73 Done\n"
          ]
        },
        {
          "output_type": "stream",
          "name": "stderr",
          "text": [
            "Train: Loss=0.4232 Batch_id=390 Accuracy=84.60: 100%|██████████| 391/391 [00:46<00:00,  8.40it/s]\n"
          ]
        },
        {
          "output_type": "stream",
          "name": "stdout",
          "text": [
            "Test set: Average loss: 0.0031, Accuracy: 8667/10000 (86.67%)\n",
            "\n",
            "epoch 74 Done\n"
          ]
        },
        {
          "output_type": "stream",
          "name": "stderr",
          "text": [
            "Train: Loss=0.3724 Batch_id=390 Accuracy=84.44: 100%|██████████| 391/391 [00:46<00:00,  8.38it/s]\n"
          ]
        },
        {
          "output_type": "stream",
          "name": "stdout",
          "text": [
            "Test set: Average loss: 0.0030, Accuracy: 8736/10000 (87.36%)\n",
            "\n",
            "epoch 75 Done\n"
          ]
        },
        {
          "output_type": "stream",
          "name": "stderr",
          "text": [
            "Train: Loss=0.5104 Batch_id=390 Accuracy=85.01: 100%|██████████| 391/391 [00:49<00:00,  7.92it/s]\n"
          ]
        },
        {
          "output_type": "stream",
          "name": "stdout",
          "text": [
            "Test set: Average loss: 0.0029, Accuracy: 8753/10000 (87.53%)\n",
            "\n",
            "epoch 76 Done\n"
          ]
        },
        {
          "output_type": "stream",
          "name": "stderr",
          "text": [
            "Train: Loss=0.5663 Batch_id=390 Accuracy=84.92: 100%|██████████| 391/391 [00:50<00:00,  7.76it/s]\n"
          ]
        },
        {
          "output_type": "stream",
          "name": "stdout",
          "text": [
            "Test set: Average loss: 0.0029, Accuracy: 8732/10000 (87.32%)\n",
            "\n",
            "epoch 77 Done\n"
          ]
        },
        {
          "output_type": "stream",
          "name": "stderr",
          "text": [
            "Train: Loss=0.6884 Batch_id=390 Accuracy=85.05: 100%|██████████| 391/391 [00:49<00:00,  7.96it/s]\n"
          ]
        },
        {
          "output_type": "stream",
          "name": "stdout",
          "text": [
            "Test set: Average loss: 0.0029, Accuracy: 8773/10000 (87.73%)\n",
            "\n",
            "epoch 78 Done\n"
          ]
        },
        {
          "output_type": "stream",
          "name": "stderr",
          "text": [
            "Train: Loss=0.3174 Batch_id=390 Accuracy=84.98: 100%|██████████| 391/391 [00:47<00:00,  8.29it/s]\n"
          ]
        },
        {
          "output_type": "stream",
          "name": "stdout",
          "text": [
            "Test set: Average loss: 0.0029, Accuracy: 8724/10000 (87.24%)\n",
            "\n",
            "epoch 79 Done\n"
          ]
        },
        {
          "output_type": "stream",
          "name": "stderr",
          "text": [
            "Train: Loss=0.5122 Batch_id=390 Accuracy=84.92: 100%|██████████| 391/391 [00:50<00:00,  7.70it/s]\n"
          ]
        },
        {
          "output_type": "stream",
          "name": "stdout",
          "text": [
            "Test set: Average loss: 0.0029, Accuracy: 8782/10000 (87.82%)\n",
            "\n",
            "epoch 80 Done\n"
          ]
        },
        {
          "output_type": "stream",
          "name": "stderr",
          "text": [
            "Train: Loss=0.2865 Batch_id=390 Accuracy=85.04: 100%|██████████| 391/391 [00:48<00:00,  8.12it/s]\n"
          ]
        },
        {
          "output_type": "stream",
          "name": "stdout",
          "text": [
            "Test set: Average loss: 0.0028, Accuracy: 8775/10000 (87.75%)\n",
            "\n",
            "epoch 81 Done\n"
          ]
        },
        {
          "output_type": "stream",
          "name": "stderr",
          "text": [
            "Train: Loss=0.3676 Batch_id=390 Accuracy=85.02: 100%|██████████| 391/391 [00:47<00:00,  8.16it/s]\n"
          ]
        },
        {
          "output_type": "stream",
          "name": "stdout",
          "text": [
            "Test set: Average loss: 0.0028, Accuracy: 8770/10000 (87.70%)\n",
            "\n",
            "epoch 82 Done\n"
          ]
        },
        {
          "output_type": "stream",
          "name": "stderr",
          "text": [
            "Train: Loss=0.4973 Batch_id=390 Accuracy=85.22: 100%|██████████| 391/391 [00:47<00:00,  8.27it/s]\n"
          ]
        },
        {
          "output_type": "stream",
          "name": "stdout",
          "text": [
            "Test set: Average loss: 0.0030, Accuracy: 8727/10000 (87.27%)\n",
            "\n",
            "epoch 83 Done\n"
          ]
        },
        {
          "output_type": "stream",
          "name": "stderr",
          "text": [
            "Train: Loss=0.4860 Batch_id=390 Accuracy=85.23: 100%|██████████| 391/391 [00:48<00:00,  8.08it/s]\n"
          ]
        },
        {
          "output_type": "stream",
          "name": "stdout",
          "text": [
            "Test set: Average loss: 0.0029, Accuracy: 8756/10000 (87.56%)\n",
            "\n",
            "epoch 84 Done\n"
          ]
        },
        {
          "output_type": "stream",
          "name": "stderr",
          "text": [
            "Train: Loss=0.3688 Batch_id=390 Accuracy=85.14: 100%|██████████| 391/391 [00:49<00:00,  7.90it/s]\n"
          ]
        },
        {
          "output_type": "stream",
          "name": "stdout",
          "text": [
            "Test set: Average loss: 0.0030, Accuracy: 8671/10000 (86.71%)\n",
            "\n",
            "epoch 85 Done\n"
          ]
        },
        {
          "output_type": "stream",
          "name": "stderr",
          "text": [
            "Train: Loss=0.3757 Batch_id=390 Accuracy=85.25: 100%|██████████| 391/391 [00:47<00:00,  8.19it/s]\n"
          ]
        },
        {
          "output_type": "stream",
          "name": "stdout",
          "text": [
            "Test set: Average loss: 0.0028, Accuracy: 8771/10000 (87.71%)\n",
            "\n",
            "epoch 86 Done\n"
          ]
        },
        {
          "output_type": "stream",
          "name": "stderr",
          "text": [
            "Train: Loss=0.5745 Batch_id=390 Accuracy=85.00: 100%|██████████| 391/391 [00:47<00:00,  8.17it/s]\n"
          ]
        },
        {
          "output_type": "stream",
          "name": "stdout",
          "text": [
            "Test set: Average loss: 0.0029, Accuracy: 8721/10000 (87.21%)\n",
            "\n",
            "epoch 87 Done\n"
          ]
        },
        {
          "output_type": "stream",
          "name": "stderr",
          "text": [
            "Train: Loss=0.3990 Batch_id=260 Accuracy=85.41:  67%|██████▋   | 261/391 [00:33<00:14,  8.87it/s]"
          ]
        }
      ],
      "source": [
        "model = Net().to(device)\n",
        "epochs = 200\n",
        "\n",
        "optimizer = optim.SGD(model.parameters(), lr=0.1, momentum = 0.9)\n",
        "scheduler = optim.lr_scheduler.OneCycleLR(\n",
        "        optimizer,\n",
        "        max_lr=4.93E-02,\n",
        "        steps_per_epoch=len(train_loader),\n",
        "        epochs=epochs,\n",
        "        pct_start=5/epochs,\n",
        "        div_factor=100,\n",
        "        three_phase=False,\n",
        "        final_div_factor=100,\n",
        "        anneal_strategy='linear'\n",
        "    )\n",
        "criterion = F.nll_loss\n",
        "\n",
        "for epoch in range(1, epochs):\n",
        "  train(model, device, train_loader, optimizer, criterion, scheduler)\n",
        "  test(model, device, test_loader, criterion)\n",
        "  scheduler.step()\n",
        "  print(f\"epoch {epoch} Done\")"
      ]
    },
    {
      "cell_type": "code",
      "execution_count": null,
      "metadata": {
        "id": "So5uk4EkHW6R"
      },
      "outputs": [],
      "source": []
    }
  ],
  "metadata": {
    "colab": {
      "provenance": [],
      "gpuType": "T4"
    },
    "kernelspec": {
      "display_name": "Python 3",
      "name": "python3"
    },
    "accelerator": "GPU"
  },
  "nbformat": 4,
  "nbformat_minor": 0
}